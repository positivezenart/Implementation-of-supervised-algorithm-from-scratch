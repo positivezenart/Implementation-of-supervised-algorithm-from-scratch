{
  "nbformat": 4,
  "nbformat_minor": 0,
  "metadata": {
    "colab": {
      "name": "Final solution for TF_IDF.ipynb",
      "provenance": [],
      "collapsed_sections": [],
      "include_colab_link": true
    },
    "kernelspec": {
      "display_name": "Python 3",
      "language": "python",
      "name": "python3"
    },
    "language_info": {
      "codemirror_mode": {
        "name": "ipython",
        "version": 3
      },
      "file_extension": ".py",
      "mimetype": "text/x-python",
      "name": "python",
      "nbconvert_exporter": "python",
      "pygments_lexer": "ipython3",
      "version": "3.7.1"
    }
  },
  "cells": [
    {
      "cell_type": "markdown",
      "metadata": {
        "id": "view-in-github",
        "colab_type": "text"
      },
      "source": [
        "<a href=\"https://colab.research.google.com/github/positivezenart/Implementation-of-supervised-algorithm-from-scratch/blob/main/Final_solution_for_TF_IDF.ipynb\" target=\"_parent\"><img src=\"https://colab.research.google.com/assets/colab-badge.svg\" alt=\"Open In Colab\"/></a>"
      ]
    },
    {
      "cell_type": "markdown",
      "metadata": {
        "id": "h9464I-uxLiw"
      },
      "source": [
        "# Assignment"
      ]
    },
    {
      "cell_type": "markdown",
      "metadata": {
        "id": "IvLvmewlxLix"
      },
      "source": [
        "<font face='georgia'>\n",
        "    \n",
        "   <h4><strong>What does tf-idf mean?</strong></h4>\n",
        "\n",
        "   <p>    \n",
        "Tf-idf stands for <em>term frequency-inverse document frequency</em>, and the tf-idf weight is a weight often used in information retrieval and text mining. This weight is a statistical measure used to evaluate how important a word is to a document in a collection or corpus. The importance increases proportionally to the number of times a word appears in the document but is offset by the frequency of the word in the corpus. Variations of the tf-idf weighting scheme are often used by search engines as a central tool in scoring and ranking a document's relevance given a user query.\n",
        "</p>\n",
        "    \n",
        "   <p>\n",
        "One of the simplest ranking functions is computed by summing the tf-idf for each query term; many more sophisticated ranking functions are variants of this simple model.\n",
        "</p>\n",
        "    \n",
        "   <p>\n",
        "Tf-idf can be successfully used for stop-words filtering in various subject fields including text summarization and classification.\n",
        "</p>\n",
        "    \n",
        "</font>"
      ]
    },
    {
      "cell_type": "markdown",
      "metadata": {
        "id": "4XLaGFUMxLiy"
      },
      "source": [
        "<font face='georgia'>\n",
        "    <h4><strong>How to Compute:</strong></h4>\n",
        "\n",
        "Typically, the tf-idf weight is composed by two terms: the first computes the normalized Term Frequency (TF), aka. the number of times a word appears in a document, divided by the total number of words in that document; the second term is the Inverse Document Frequency (IDF), computed as the logarithm of the number of the documents in the corpus divided by the number of documents where the specific term appears.\n",
        "\n",
        " <ul>\n",
        "    <li>\n",
        "<strong>TF:</strong> Term Frequency, which measures how frequently a term occurs in a document. Since every document is different in length, it is possible that a term would appear much more times in long documents than shorter ones. Thus, the term frequency is often divided by the document length (aka. the total number of terms in the document) as a way of normalization: <br>\n",
        "\n",
        "$TF(t) = \\frac{\\text{Number of times term t appears in a document}}{\\text{Total number of terms in the document}}.$\n",
        "</li>\n",
        "<li>\n",
        "<strong>IDF:</strong> Inverse Document Frequency, which measures how important a term is. While computing TF, all terms are considered equally important. However it is known that certain terms, such as \"is\", \"of\", and \"that\", may appear a lot of times but have little importance. Thus we need to weigh down the frequent terms while scale up the rare ones, by computing the following: <br>\n",
        "\n",
        "$IDF(t) = \\log_{e}\\frac{\\text{Total  number of documents}} {\\text{Number of documents with term t in it}}.$\n",
        "for numerical stabiltiy we will be changing this formula little bit\n",
        "$IDF(t) = \\log_{e}\\frac{\\text{Total  number of documents}} {\\text{Number of documents with term t in it}+1}.$\n",
        "</li>\n",
        "</ul>\n",
        "\n",
        "<br>\n",
        "<h4><strong>Example</strong></h4>\n",
        "<p>\n",
        "\n",
        "Consider a document containing 100 words wherein the word cat appears 3 times. The term frequency (i.e., tf) for cat is then (3 / 100) = 0.03. Now, assume we have 10 million documents and the word cat appears in one thousand of these. Then, the inverse document frequency (i.e., idf) is calculated as log(10,000,000 / 1,000) = 4. Thus, the Tf-idf weight is the product of these quantities: 0.03 * 4 = 0.12.\n",
        "</p>\n",
        "</font>"
      ]
    },
    {
      "cell_type": "markdown",
      "metadata": {
        "id": "dg2ooa4DxLiz"
      },
      "source": [
        "## Task-1"
      ]
    },
    {
      "cell_type": "markdown",
      "metadata": {
        "id": "TAcTjhO8xLiz"
      },
      "source": [
        "<font face='georgia'>\n",
        "    <h4><strong>1. Build a TFIDF Vectorizer & compare its results with Sklearn:</strong></h4>\n",
        "\n",
        "<ul>\n",
        "    <li> As a part of this task you will be implementing TFIDF vectorizer on a collection of text documents.</li>\n",
        "    <br>\n",
        "    <li> You should compare the results of your own implementation of TFIDF vectorizer with that of sklearns implemenation TFIDF vectorizer.</li>\n",
        "    <br>\n",
        "    <li> Sklearn does few more tweaks in the implementation of its version of TFIDF vectorizer, so to replicate the exact results you would need to add following things to your custom implementation of tfidf vectorizer:\n",
        "       <ol>\n",
        "        <li> Sklearn has its vocabulary generated from idf sroted in alphabetical order</li>\n",
        "        <li> Sklearn formula of idf is different from the standard textbook formula. Here the constant <strong>\"1\"</strong> is added to the numerator and denominator of the idf as if an extra document was seen containing every term in the collection exactly once, which prevents zero divisions.\n",
        "            \n",
        " $IDF(t) = 1+\\log_{e}\\frac{1\\text{ }+\\text{ Total  number of documents in collection}} {1+\\text{Number of documents with term t in it}}.$\n",
        "        </li>\n",
        "        <li> Sklearn applies L2-normalization on its output matrix.</li>\n",
        "        <li> The final output of sklearn tfidf vectorizer is a sparse matrix.</li>\n",
        "    </ol>\n",
        "    <br>\n",
        "    <li>Steps to approach this task:\n",
        "    <ol>\n",
        "        <li> You would have to write both fit and transform methods for your custom implementation of tfidf vectorizer.</li>\n",
        "        <li> Print out the alphabetically sorted voacb after you fit your data and check if its the same as that of the feature names from sklearn tfidf vectorizer. </li>\n",
        "        <li> Print out the idf values from your implementation and check if its the same as that of sklearns tfidf vectorizer idf values. </li>\n",
        "        <li> Once you get your voacb and idf values to be same as that of sklearns implementation of tfidf vectorizer, proceed to the below steps. </li>\n",
        "        <li> Make sure the output of your implementation is a sparse matrix. Before generating the final output, you need to normalize your sparse matrix using L2 normalization. You can refer to this link https://scikit-learn.org/stable/modules/generated/sklearn.preprocessing.normalize.html </li>\n",
        "        <li> After completing the above steps, print the output of your custom implementation and compare it with sklearns implementation of tfidf vectorizer.</li>\n",
        "        <li> To check the output of a single document in your collection of documents,  you can convert the sparse matrix related only to that document into dense matrix and print it.</li>\n",
        "        </ol>\n",
        "    </li>\n",
        "    <br>\n",
        "   </ul>\n",
        "\n",
        "  <p> <font color=\"#e60000\"><strong>Note-1: </strong></font> All the necessary outputs of sklearns tfidf vectorizer have been provided as reference in this notebook, you can compare your outputs as mentioned in the above steps, with these outputs.<br>\n",
        "   <font color=\"#e60000\"><strong>Note-2: </strong></font> The output of your custom implementation and that of sklearns implementation would match only with the collection of document strings provided to you as reference in this notebook. It would not match for strings that contain capital letters or punctuations, etc, because sklearn version of tfidf vectorizer deals with such strings in a different way. To know further details about how sklearn tfidf vectorizer works with such string, you can always refer to its official documentation.<br>\n",
        "   <font color=\"#e60000\"><strong>Note-3: </strong></font> During this task, it would be helpful for you to debug the code you write with print statements wherever necessary. But when you are finally submitting the assignment, make sure your code is readable and try not to print things which are not part of this task.\n",
        "    </p>"
      ]
    },
    {
      "cell_type": "markdown",
      "metadata": {
        "id": "OnV82tg1xLi0"
      },
      "source": [
        "### Corpus"
      ]
    },
    {
      "cell_type": "code",
      "metadata": {
        "id": "bUsYm9wjxLi1"
      },
      "source": [
        "## SkLearn# Collection of string documents\n",
        "\n",
        "corpus = [\n",
        "     'this is the first document',\n",
        "     'this document is the second document',\n",
        "     'and this is the third one',\n",
        "     'is this the first document',\n",
        "]"
      ],
      "execution_count": null,
      "outputs": []
    },
    {
      "cell_type": "markdown",
      "metadata": {
        "id": "eLwmFZfKxLi4"
      },
      "source": [
        "### SkLearn Implementation"
      ]
    },
    {
      "cell_type": "code",
      "metadata": {
        "id": "Np4dfQOkxLi4"
      },
      "source": [
        "from sklearn.feature_extraction.text import TfidfVectorizer\n",
        "vectorizer = TfidfVectorizer()\n",
        "vectorizer.fit(corpus)\n",
        "skl_output = vectorizer.transform(corpus)"
      ],
      "execution_count": null,
      "outputs": []
    },
    {
      "cell_type": "code",
      "metadata": {
        "id": "-7Om8YpYxLi6",
        "outputId": "32ccc6c4-95f3-4ede-ee8f-ef82ee5974fc",
        "colab": {
          "base_uri": "https://localhost:8080/"
        }
      },
      "source": [
        "# sklearn feature names, they are sorted in alphabetic order by default.\n",
        "\n",
        "print(vectorizer.get_feature_names())"
      ],
      "execution_count": null,
      "outputs": [
        {
          "output_type": "stream",
          "name": "stdout",
          "text": [
            "['and', 'document', 'first', 'is', 'one', 'second', 'the', 'third', 'this']\n"
          ]
        },
        {
          "output_type": "stream",
          "name": "stderr",
          "text": [
            "/usr/local/lib/python3.7/dist-packages/sklearn/utils/deprecation.py:87: FutureWarning: Function get_feature_names is deprecated; get_feature_names is deprecated in 1.0 and will be removed in 1.2. Please use get_feature_names_out instead.\n",
            "  warnings.warn(msg, category=FutureWarning)\n"
          ]
        }
      ]
    },
    {
      "cell_type": "code",
      "metadata": {
        "id": "dTKplK96xLi-",
        "outputId": "2c44b1af-1f6e-4f0f-b447-557a7910fadb",
        "colab": {
          "base_uri": "https://localhost:8080/"
        }
      },
      "source": [
        "# Here we will print the sklearn tfidf vectorizer idf values after applying the fit method\n",
        "# After using the fit function on the corpus the vocab has 9 words in it, and each has its idf value.\n",
        "\n",
        "print(vectorizer.idf_)"
      ],
      "execution_count": null,
      "outputs": [
        {
          "output_type": "stream",
          "name": "stdout",
          "text": [
            "[1.91629073 1.22314355 1.51082562 1.         1.91629073 1.91629073\n",
            " 1.         1.91629073 1.        ]\n"
          ]
        }
      ]
    },
    {
      "cell_type": "code",
      "metadata": {
        "id": "-CTiWHygxLjA",
        "outputId": "b1a091cd-4c9e-4aa9-dbc2-ba36bc6b1738",
        "colab": {
          "base_uri": "https://localhost:8080/"
        }
      },
      "source": [
        "# shape of sklearn tfidf vectorizer output after applying transform method.\n",
        "\n",
        "skl_output.shape"
      ],
      "execution_count": null,
      "outputs": [
        {
          "output_type": "execute_result",
          "data": {
            "text/plain": [
              "(4, 9)"
            ]
          },
          "metadata": {},
          "execution_count": 41
        }
      ]
    },
    {
      "cell_type": "code",
      "metadata": {
        "id": "bDKEpbA-xLjD",
        "outputId": "abf811a4-8a8f-4474-dbf8-95c26ec4f326",
        "colab": {
          "base_uri": "https://localhost:8080/"
        }
      },
      "source": [
        "# sklearn tfidf values for first line of the above corpus.\n",
        "# Here the output is a sparse matrix\n",
        "\n",
        "print(skl_output[0])"
      ],
      "execution_count": null,
      "outputs": [
        {
          "output_type": "stream",
          "name": "stdout",
          "text": [
            "  (0, 8)\t0.38408524091481483\n",
            "  (0, 6)\t0.38408524091481483\n",
            "  (0, 3)\t0.38408524091481483\n",
            "  (0, 2)\t0.5802858236844359\n",
            "  (0, 1)\t0.46979138557992045\n"
          ]
        }
      ]
    },
    {
      "cell_type": "code",
      "metadata": {
        "id": "3QWo34hexLjF",
        "outputId": "92cd2231-1903-4636-a65a-d57895396729",
        "colab": {
          "base_uri": "https://localhost:8080/"
        }
      },
      "source": [
        "# sklearn tfidf values for first line of the above corpus.\n",
        "# To understand the output better, here we are converting the sparse output matrix to dense matrix and printing it.\n",
        "# Notice that this output is normalized using L2 normalization. sklearn does this by default.\n",
        "\n",
        "print(skl_output[0].toarray())"
      ],
      "execution_count": null,
      "outputs": [
        {
          "output_type": "stream",
          "name": "stdout",
          "text": [
            "[[0.         0.46979139 0.58028582 0.38408524 0.         0.\n",
            "  0.38408524 0.         0.38408524]]\n"
          ]
        }
      ]
    },
    {
      "cell_type": "markdown",
      "metadata": {
        "id": "qfIwx5LzxLjI"
      },
      "source": [
        "### Your custom implementation"
      ]
    },
    {
      "cell_type": "code",
      "metadata": {
        "id": "HjuCcJwXxLjJ"
      },
      "source": [
        "# Write your code here.\n",
        "# Make sure its well documented and readble with appropriate comments.\n",
        "# Compare your results with the above sklearn tfidf vectorizer\n",
        "# You are not supposed to use any other library apart from the ones given below\n",
        "\n",
        "from collections import Counter\n",
        "from tqdm import tqdm\n",
        "from scipy.sparse import csr_matrix\n",
        "import math\n",
        "import operator\n",
        "from sklearn.preprocessing import normalize\n",
        "import numpy\n",
        "\n"
      ],
      "execution_count": null,
      "outputs": []
    },
    {
      "cell_type": "markdown",
      "source": [
        "**CUSTOM METHOD** #Implementation of TF_IDF without sklearn"
      ],
      "metadata": {
        "id": "vcdl8Zgvw-DF"
      }
    },
    {
      "cell_type": "code",
      "source": [
        "#fit method\n",
        "#Trying to find all unique words in the data and we will assign a dimension-number to each unique word\n",
        "#create a python dictionary to save all the unique words\n",
        "# it accepts only list of sentances\n",
        "def fit(dataset):    \n",
        "    unique_words = set() # at first we will initialize an empty set, Using set since it wont accept duplicates\n",
        "    # check if its list type or not\n",
        "   \n",
        "    if isinstance(dataset, (list,)): # to check whether the given dataset is list or not\n",
        "        \n",
        "        for row in dataset: # for each review in the dataset\n",
        "            for word in row.split(\" \"): # for each word in the review. #split method converts a string into list of words\n",
        "                if len(word) < 2:\n",
        "                    continue\n",
        "                unique_words.add(word)\n",
        "        unique_words = sorted(list(unique_words))\n",
        "       \n",
        "        vocab = {j:i for i,j in enumerate(unique_words)} #enumerate(iterable, start=0)\n",
        "        \n",
        "        return vocab\n",
        "    else:\n",
        "        print(\"you need to pass list of sentance\")"
      ],
      "metadata": {
        "id": "DWgaqcKoxJUC"
      },
      "execution_count": null,
      "outputs": []
    },
    {
      "cell_type": "code",
      "source": [
        "vocab=fit(corpus) #calling function \n",
        "print(vocab)"
      ],
      "metadata": {
        "colab": {
          "base_uri": "https://localhost:8080/"
        },
        "id": "1pRg5qaWyGui",
        "outputId": "5c9f535f-2353-42d0-bf2e-c08355209aff"
      },
      "execution_count": null,
      "outputs": [
        {
          "output_type": "stream",
          "name": "stdout",
          "text": [
            "{'and': 0, 'document': 1, 'first': 2, 'is': 3, 'one': 4, 'second': 5, 'the': 6, 'third': 7, 'this': 8}\n"
          ]
        }
      ]
    },
    {
      "cell_type": "code",
      "source": [
        "#Transform method\n",
        "#Find feature matrix using sparse matrix, since finding feature matrix with dense matrix is time consuming\n",
        "def transform(dataset,vocab):\n",
        "    rows = []\n",
        "    columns = []\n",
        "    values = []\n",
        "    if isinstance(dataset, (list,)):\n",
        "        for idx, row in enumerate(tqdm(dataset)): # for each document in the dataset\n",
        "            # it will return a dict type object where key is the word and values is its frequency, {word:frequency}\n",
        "            word_freq = dict(Counter(row.split()))\n",
        "            # for every unique word in the document\n",
        "            #print(word_freq)\n",
        "            for word, freq in word_freq.items():  # for each unique word in the review.                \n",
        "                if len(word) < 2:\n",
        "                    continue\n",
        "                # we will check if its there in the vocabulary that we build in fit() function\n",
        "                # dict.get() function will return the values, if the key doesn't exits it will return -1\n",
        "                col_index = vocab.get(word, -1) # retreving the dimension number of a word\n",
        "                # if the word exists \n",
        "                #print(col_index)\n",
        "                if col_index !=-1:\n",
        "                    # we are storing the index of the document\n",
        "                    rows.append(idx)\n",
        "                    # we are storing the dimensions of the word\n",
        "                    columns.append(col_index)\n",
        "                    # we are storing the frequency of the word\n",
        "                    values.append(freq)\n",
        "                    #https://docs.scipy.org/doc/scipy/reference/generated/scipy.sparse.csr_matrix.html\n",
        "        return csr_matrix((values, (rows,columns)), shape=(len(dataset),len(vocab)))\n",
        "    else:\n",
        "        print(\"you need to pass list of strings\")"
      ],
      "metadata": {
        "id": "3dhaNUwV0Z5y"
      },
      "execution_count": null,
      "outputs": []
    },
    {
      "cell_type": "markdown",
      "source": [
        "**Calculating TF_IDF**"
      ],
      "metadata": {
        "id": "QD0b5ufd2vhc"
      }
    },
    {
      "cell_type": "code",
      "source": [
        "#Calculating IDF\n",
        "def cal_idf(new_matrix, vocab):    \n",
        "    idf =[]     \n",
        "    for i,j in vocab.items():\n",
        "        count =1\n",
        "        \n",
        "        for x in new_matrix:\n",
        "            if( x[j] > 0):\n",
        "                if (x[j]>1):\n",
        "                    add=True\n",
        "                #print(i,x[j])\n",
        "                count =  count + 1\n",
        "        \n",
        "        \n",
        "        idf.append( \"%.8f\" %  (1 + (math.log((len(new_matrix)+1)/(count))))) #log(N/n(i))\n",
        "        \n",
        "    return idf"
      ],
      "metadata": {
        "id": "K4lKsbbD22ED"
      },
      "execution_count": null,
      "outputs": []
    },
    {
      "cell_type": "code",
      "source": [
        "#calculating TF-IDF\n",
        "def cal_tfidf(new_matrix,Idf):\n",
        "    TF_idf=[]\n",
        "    for x in new_matrix:\n",
        "        a=[]\n",
        "        #print (list(zip(x,Idf)))\n",
        "        #https://www.geeksforgeeks.org/zip-in-python/\n",
        "        for y,z in zip(x,Idf):\n",
        "            a.append( \"%.8f\" % ( float(z) * ( float(y)/float(sum(x))) )) #Tf*IDF\n",
        "            #print(a)\n",
        "        TF_idf.append(a)\n",
        "        \n",
        "        \n",
        "    return TF_idf"
      ],
      "metadata": {
        "id": "Pw95RR-x7RU-"
      },
      "execution_count": null,
      "outputs": []
    },
    {
      "cell_type": "code",
      "source": [
        "vocab=fit(corpus)\n",
        "sparse_matrix= transform(corpus,vocab)\n",
        "#https://www.discoverbits.in/2233/python-how-to-convert-sparse-matrix-to-a-dense-matrix#\n",
        "new_matrix=sparse_matrix.toarray() \n",
        "\n"
      ],
      "metadata": {
        "colab": {
          "base_uri": "https://localhost:8080/"
        },
        "id": "PlUSMwgi1KTb",
        "outputId": "5887f45e-bc5d-4fec-b52b-5bacc295dff2"
      },
      "execution_count": null,
      "outputs": [
        {
          "output_type": "stream",
          "name": "stderr",
          "text": [
            "100%|██████████| 4/4 [00:00<00:00, 16912.52it/s]\n"
          ]
        }
      ]
    },
    {
      "cell_type": "code",
      "source": [
        "IDF =cal_idf(new_matrix , vocab) #calling function to calculate idf values, stroing in IDF"
      ],
      "metadata": {
        "id": "nGz-5FyW7spb"
      },
      "execution_count": null,
      "outputs": []
    },
    {
      "cell_type": "code",
      "source": [
        "print(\"sklearn Method IDF:\")\n",
        "print(vectorizer.idf_)\n",
        "print()\n",
        "print(\"custom Method IDF\")\n",
        "print(IDF)"
      ],
      "metadata": {
        "colab": {
          "base_uri": "https://localhost:8080/"
        },
        "id": "kH8O__VF84D8",
        "outputId": "41fa188c-f634-4b84-bdf5-63d460272b45"
      },
      "execution_count": null,
      "outputs": [
        {
          "output_type": "stream",
          "name": "stdout",
          "text": [
            "sklearn Method IDF:\n",
            "[1.91629073 1.22314355 1.51082562 1.         1.91629073 1.91629073\n",
            " 1.         1.91629073 1.        ]\n",
            "\n",
            "custom Method IDF\n",
            "['1.91629073', '1.22314355', '1.51082562', '1.00000000', '1.91629073', '1.91629073', '1.00000000', '1.91629073', '1.00000000']\n"
          ]
        }
      ]
    },
    {
      "cell_type": "code",
      "source": [
        "tf_idf = cal_tfidf(new_matrix,IDF)\n",
        "#https://scikit-learn.org/stable/modules/generated/sklearn.preprocessing.normalize.html\n",
        "\n",
        "tf_idf_final = normalize(tf_idf,norm='l2', copy=True, return_norm=False) #L2 normalization\n",
        "tf_idf_final_norm= (csr_matrix(tf_idf_final))"
      ],
      "metadata": {
        "id": "TZJyerwo8QeT"
      },
      "execution_count": null,
      "outputs": []
    },
    {
      "cell_type": "code",
      "source": [
        "print(\"sklearn tfidf values:\")\n",
        "print(skl_output[0])\n",
        "print(\"Custom method tfidf values:\")\n",
        "print(tf_idf_final_norm[0])"
      ],
      "metadata": {
        "colab": {
          "base_uri": "https://localhost:8080/"
        },
        "id": "vmBeyeBd9m5E",
        "outputId": "9d7bc4b7-8ff3-4428-f9ff-62ea01c6b643"
      },
      "execution_count": null,
      "outputs": [
        {
          "output_type": "stream",
          "name": "stdout",
          "text": [
            "sklearn tfidf values:\n",
            "  (0, 8)\t0.38408524091481483\n",
            "  (0, 6)\t0.38408524091481483\n",
            "  (0, 3)\t0.38408524091481483\n",
            "  (0, 2)\t0.5802858236844359\n",
            "  (0, 1)\t0.46979138557992045\n",
            "Custom method tfidf values:\n",
            "  (0, 1)\t0.46979138767501566\n",
            "  (0, 2)\t0.5802858177676187\n",
            "  (0, 3)\t0.3840852430403739\n",
            "  (0, 6)\t0.3840852430403739\n",
            "  (0, 8)\t0.3840852430403739\n"
          ]
        }
      ]
    },
    {
      "cell_type": "code",
      "source": [
        "print(\"In Sklearn tfidf value after converting sparse to dense\")\n",
        "print(skl_output[0].toarray())\n",
        "print(\"In custom method tfidf value after converting sparse to dense\")\n",
        "print(tf_idf_final_norm[0].toarray())"
      ],
      "metadata": {
        "colab": {
          "base_uri": "https://localhost:8080/"
        },
        "id": "UfcM91cv_Vus",
        "outputId": "4ffd3d91-13da-4403-9669-c8dea2a84276"
      },
      "execution_count": null,
      "outputs": [
        {
          "output_type": "stream",
          "name": "stdout",
          "text": [
            "In Sklearn tfidf value after converting sparse to dense\n",
            "[[0.         0.46979139 0.58028582 0.38408524 0.         0.\n",
            "  0.38408524 0.         0.38408524]]\n",
            "In custom methos tfidf value after converting sparse to dense\n",
            "[[0.         0.46979139 0.58028582 0.38408524 0.         0.\n",
            "  0.38408524 0.         0.38408524]]\n"
          ]
        }
      ]
    },
    {
      "cell_type": "markdown",
      "metadata": {
        "id": "MMxBmVZExLjK"
      },
      "source": [
        "## Task-2"
      ]
    },
    {
      "cell_type": "markdown",
      "metadata": {
        "id": "51j_OtqAxLjL"
      },
      "source": [
        "<font face='georgia'>\n",
        "    <h4><strong>2. Implement max features functionality:</strong></h4>\n",
        "\n",
        "<ul>\n",
        "    <li> As a part of this task you have to modify your fit and transform functions so that your vocab will contain only 50 terms with top idf scores.</li>\n",
        "    <br>\n",
        "    <li>This task is similar to your previous task, just that here your vocabulary is limited to only top 50 features names based on their idf values. Basically your output will have exactly 50 columns and the number of rows will depend on the number of documents you have in your corpus.</li>\n",
        "    <br>\n",
        "    <li>Here you will be give a pickle file, with file name <strong>cleaned_strings</strong>. You would have to load the corpus from this file and use it as input to your tfidf vectorizer.</li>\n",
        "    <br>\n",
        "    <li>Steps to approach this task:\n",
        "    <ol>\n",
        "        <li> You would have to write both fit and transform methods for your custom implementation of tfidf vectorizer, just like in the previous task. Additionally, here you have to limit the number of features generated to 50 as described above.</li>\n",
        "        <li> Now sort your vocab based in descending order of idf values and print out the words in the sorted voacb after you fit your data. Here you should be getting only 50 terms in your vocab. And make sure to print idf values for each term in your vocab. </li>\n",
        "        <li> Make sure the output of your implementation is a sparse matrix. Before generating the final output, you need to normalize your sparse matrix using L2 normalization. You can refer to this link https://scikit-learn.org/stable/modules/generated/sklearn.preprocessing.normalize.html </li>\n",
        "        <li> Now check the output of a single document in your collection of documents,  you can convert the sparse matrix related only to that document into dense matrix and print it. And this dense matrix should contain 1 row and 50 columns. </li>\n",
        "        </ol>\n",
        "    </li>\n",
        "    <br>\n",
        "   </ul>"
      ]
    },
    {
      "cell_type": "code",
      "source": [
        "#Mounting drive to notebook\n",
        "from google.colab import drive\n",
        "drive.mount('/content/drive')"
      ],
      "metadata": {
        "colab": {
          "base_uri": "https://localhost:8080/"
        },
        "id": "_iku7j3TBBgD",
        "outputId": "996f3133-ddc4-404d-ff4b-f10a0297d253"
      },
      "execution_count": null,
      "outputs": [
        {
          "output_type": "stream",
          "name": "stdout",
          "text": [
            "Mounted at /content/drive\n"
          ]
        }
      ]
    },
    {
      "cell_type": "code",
      "metadata": {
        "id": "NHxPLlwNxLjL",
        "outputId": "079c0b53-3cd3-4d96-c4c4-2fef152dc97d",
        "colab": {
          "base_uri": "https://localhost:8080/"
        }
      },
      "source": [
        "# Below is the code to load the cleaned_strings pickle file provided\n",
        "# Here corpus is of list type\n",
        "\n",
        "import pickle\n",
        "with open('/content/drive/My Drive/cleaned_strings', 'rb') as f:\n",
        "    corpus = pickle.load(f)\n",
        "    \n",
        "# printing the length of the corpus loaded\n",
        "print(\"Number of documents in corpus = \",len(corpus))"
      ],
      "execution_count": null,
      "outputs": [
        {
          "output_type": "stream",
          "name": "stdout",
          "text": [
            "Number of documents in corpus =  746\n"
          ]
        }
      ]
    },
    {
      "cell_type": "code",
      "metadata": {
        "id": "ZULfoOIdxLjQ"
      },
      "source": [
        "# Write your code here.\n",
        "# Try not to hardcode any values.\n",
        "# Make sure its well documented and readble with appropriate comments.\n"
      ],
      "execution_count": null,
      "outputs": []
    },
    {
      "cell_type": "code",
      "metadata": {
        "id": "1_DJnnR3xLjR"
      },
      "source": [
        "#fit method\n",
        "def fit(dataset):    \n",
        "    unique_words = set() # at first we will initialize an empty set, Using set since it wont accept duplicates\n",
        "    # check if its list type or not\n",
        "    \n",
        "    if isinstance(dataset, (list,)): # to check whether the given dataset is list or not\n",
        "        \n",
        "        for row in dataset: # for each review in the dataset\n",
        "            \n",
        "            for word in row.split(\" \"): # for each word in the review. #split method converts a string into list of words\n",
        "                if len(word) < 2:\n",
        "                    continue\n",
        "                unique_words.add(word)\n",
        "               \n",
        "        unique_words = sorted(list(unique_words))\n",
        "       \n",
        "        vocab = {j:i for i,j in enumerate(unique_words)} #enumerate(iterable, start=0)\n",
        "        \n",
        "        return vocab\n",
        "    else:\n",
        "        print(\"you need to pass list of sentance\")"
      ],
      "execution_count": null,
      "outputs": []
    },
    {
      "cell_type": "code",
      "source": [
        "def transform(dataset,vocab):\n",
        "    rows = []\n",
        "    columns = []\n",
        "    values = []\n",
        "    if isinstance(dataset, (list,)):\n",
        "        for idx, row in enumerate(tqdm(dataset)): # for each document in the dataset\n",
        "            # it will return a dict type object where key is the word and values is its frequency, {word:frequency}\n",
        "            word_freq = dict(Counter(row.split()))\n",
        "            # for every unique word in the document\n",
        "           \n",
        "            for word, freq in word_freq.items():  # for each unique word in the review.                \n",
        "                if len(word) < 2:\n",
        "                    continue\n",
        "                # we will check if its there in the vocabulary that we build in fit() function\n",
        "                # dict.get() function will return the values, if the key doesn't exits it will return -1\n",
        "                col_index = vocab.get(word, -1) # retreving the dimension number of a word\n",
        "                # if the word exists\n",
        "                if col_index !=-1:\n",
        "                    # we are storing the index of the document\n",
        "                    rows.append(idx)\n",
        "                    # we are storing the dimensions of the word\n",
        "                    columns.append(col_index)\n",
        "                    # we are storing the frequency of the word\n",
        "                    values.append(freq)\n",
        "        return csr_matrix((values, (rows,columns)), shape=(len(dataset),len(vocab)))\n",
        "    else:\n",
        "        print(\"you need to pass list of strings\")"
      ],
      "metadata": {
        "id": "YRXU98ZhAuGL"
      },
      "execution_count": null,
      "outputs": []
    },
    {
      "cell_type": "code",
      "source": [
        "def cal_idfTop50(new_matrix, vocab):    \n",
        "    idf =[]     \n",
        "    for i,j in vocab.items():\n",
        "        \n",
        "        count =1\n",
        "        \n",
        "        for x in new_matrix:\n",
        "            if( x[j] > 0):\n",
        "                if (x[j]>1):\n",
        "                    add=True\n",
        "                #print(i,x[j])\n",
        "                count =  count + 1\n",
        "        \n",
        "        \n",
        "        idf.append( (i, 1 + (math.log((len(new_matrix)+1)/(count)))))\n",
        "\n",
        "    idf= sorted(idf,key = lambda x : x[1], reverse = True) #https://www.geeksforgeeks.org/sorted-function-python/,Returns values in descending \n",
        "    c=0 \n",
        "    idf50 = []  \n",
        "\n",
        "    for i in idf: #for loop to return values upto top 50\n",
        "        if ( c<50):\n",
        "            idf50.append(i)\n",
        "            c= c+1\n",
        "            \n",
        "        else:\n",
        "            break\n",
        "        \n",
        "    return idf50"
      ],
      "metadata": {
        "id": "6tqLRfqUCKub"
      },
      "execution_count": null,
      "outputs": []
    },
    {
      "cell_type": "code",
      "source": [
        "def cal_TFidf50(new_matrix,Idf):\n",
        "    TFidf=[]\n",
        "    for x in new_matrix:\n",
        "        a=[]\n",
        "        #print (list(zip(x,Idf)))\n",
        "        for y,z in zip(x,Idf):\n",
        "            \n",
        "            if (sum(x) ==0) :\n",
        "                a.append(0)\n",
        "            else:\n",
        "                #print(z , y , sum(x))\n",
        "                a.append(z * ( y/sum(x)))\n",
        "                #print(a)\n",
        "        TFidf.append(a)\n",
        "        \n",
        "        \n",
        "    return TFidf"
      ],
      "metadata": {
        "id": "QFvrQUZXFhXD"
      },
      "execution_count": null,
      "outputs": []
    },
    {
      "cell_type": "code",
      "source": [
        "vocab=fit(corpus)\n",
        "sparse_matrix= transform(corpus,vocab)\n",
        "new_matrix=sparse_matrix.toarray()"
      ],
      "metadata": {
        "colab": {
          "base_uri": "https://localhost:8080/"
        },
        "id": "HqLu6L1kBdJN",
        "outputId": "065db0ae-542d-4c9c-f5ce-1e513d6e8557"
      },
      "execution_count": null,
      "outputs": [
        {
          "output_type": "stream",
          "name": "stderr",
          "text": [
            "100%|██████████| 746/746 [00:00<00:00, 57036.23it/s]\n"
          ]
        }
      ]
    },
    {
      "cell_type": "code",
      "source": [
        "#Printing the IDF values of top 50 vocab\n",
        "Idf50 = cal_idfTop50(new_matrix,vocab)\n",
        "\n",
        "Voc_dict50 ={}\n",
        "\n",
        "c=0\n",
        "print (\"Top 50 Vocabulary and Idf values\")\n",
        "for i in Idf50 :\n",
        "    print(i)\n",
        "    Voc_dict50[i[0]] = c\n",
        "    c= c+1\n",
        "#print(Voc_dict50)"
      ],
      "metadata": {
        "colab": {
          "base_uri": "https://localhost:8080/"
        },
        "id": "FWbOD5mJCJyj",
        "outputId": "e0a294df-7c21-438d-bca0-2d4e0cf21672"
      },
      "execution_count": null,
      "outputs": [
        {
          "output_type": "stream",
          "name": "stdout",
          "text": [
            "Top 50 Vocabulary and Idf values\n",
            "('aailiyah', 6.922918004572872)\n",
            "('abandoned', 6.922918004572872)\n",
            "('abroad', 6.922918004572872)\n",
            "('abstruse', 6.922918004572872)\n",
            "('academy', 6.922918004572872)\n",
            "('accents', 6.922918004572872)\n",
            "('accessible', 6.922918004572872)\n",
            "('acclaimed', 6.922918004572872)\n",
            "('accolades', 6.922918004572872)\n",
            "('accurate', 6.922918004572872)\n",
            "('accurately', 6.922918004572872)\n",
            "('achille', 6.922918004572872)\n",
            "('ackerman', 6.922918004572872)\n",
            "('actions', 6.922918004572872)\n",
            "('adams', 6.922918004572872)\n",
            "('add', 6.922918004572872)\n",
            "('added', 6.922918004572872)\n",
            "('admins', 6.922918004572872)\n",
            "('admiration', 6.922918004572872)\n",
            "('admitted', 6.922918004572872)\n",
            "('adrift', 6.922918004572872)\n",
            "('adventure', 6.922918004572872)\n",
            "('aesthetically', 6.922918004572872)\n",
            "('affected', 6.922918004572872)\n",
            "('affleck', 6.922918004572872)\n",
            "('afternoon', 6.922918004572872)\n",
            "('aged', 6.922918004572872)\n",
            "('ages', 6.922918004572872)\n",
            "('agree', 6.922918004572872)\n",
            "('agreed', 6.922918004572872)\n",
            "('aimless', 6.922918004572872)\n",
            "('aired', 6.922918004572872)\n",
            "('akasha', 6.922918004572872)\n",
            "('akin', 6.922918004572872)\n",
            "('alert', 6.922918004572872)\n",
            "('alike', 6.922918004572872)\n",
            "('allison', 6.922918004572872)\n",
            "('allow', 6.922918004572872)\n",
            "('allowing', 6.922918004572872)\n",
            "('alongside', 6.922918004572872)\n",
            "('amateurish', 6.922918004572872)\n",
            "('amaze', 6.922918004572872)\n",
            "('amazed', 6.922918004572872)\n",
            "('amazingly', 6.922918004572872)\n",
            "('amusing', 6.922918004572872)\n",
            "('amust', 6.922918004572872)\n",
            "('anatomist', 6.922918004572872)\n",
            "('angel', 6.922918004572872)\n",
            "('angela', 6.922918004572872)\n",
            "('angelina', 6.922918004572872)\n"
          ]
        }
      ]
    },
    {
      "cell_type": "code",
      "source": [
        "Tran5 =transform(corpus, Voc_dict50).toarray()\n",
        "#print(Tran5)"
      ],
      "metadata": {
        "colab": {
          "base_uri": "https://localhost:8080/"
        },
        "id": "ngPLgvx7Ey4s",
        "outputId": "a5e48252-f4a9-4d71-e7a2-75c1ba57d24e"
      },
      "execution_count": null,
      "outputs": [
        {
          "output_type": "stream",
          "name": "stderr",
          "text": [
            "100%|██████████| 746/746 [00:00<00:00, 125393.77it/s]\n"
          ]
        }
      ]
    },
    {
      "cell_type": "code",
      "source": [
        "Idf_50 =[]\n",
        "for j in Idf50:\n",
        "    Idf_50.append(j[1])\n",
        "new_value = cal_TFidf50(Tran5,Idf_50)\n",
        "\n",
        "TF_nor = normalize(new_value) #L2 normalization\n",
        "\n",
        "spar_dense_50= csr_matrix(TF_nor) #convering dense to sparse\n",
        "print(spar_dense_50[0])\n"
      ],
      "metadata": {
        "colab": {
          "base_uri": "https://localhost:8080/"
        },
        "id": "iwRHqueXFO9r",
        "outputId": "261b164b-4f9e-4a30-90f3-6599e177b709"
      },
      "execution_count": null,
      "outputs": [
        {
          "output_type": "stream",
          "name": "stdout",
          "text": [
            "  (0, 30)\t1.0\n"
          ]
        }
      ]
    }
  ]
}